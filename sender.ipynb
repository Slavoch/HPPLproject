{
 "cells": [
  {
   "cell_type": "code",
   "execution_count": 20,
   "metadata": {
    "ExecuteTime": {
     "end_time": "2023-12-19T18:27:47.695851Z",
     "start_time": "2023-12-19T18:27:47.606401200Z"
    }
   },
   "outputs": [],
   "source": [
    "from sender import generate_message, send_to_data_server\n",
    "import pandas as pd\n",
    "import json\n",
    "import numpy as np\n",
    "import time\n",
    "\n",
    "# Example DataFrame creation\n",
    "\n",
    "# Here you can import your pandas table directly from internet database or your PC files\n",
    "# df = pd.read_json('file_path_or_url')\n",
    "# engine = sqlalchemy.create_engine('database_url')\n",
    "# df = pd.read_sql_query('sql_query', engine)\n",
    "\n",
    "# Generate and save JSON file as a demonstration tool\n",
    "x_values = np.random.rand(1000)\n",
    "y_values = np.random.rand(1000)\n",
    "data = [{\"X\": float(x), \"Y\": float(y)} for x, y in zip(x_values, y_values)]\n",
    "file_path = \"xy_data.json\"  # Update the file path if needed\n",
    "with open(file_path, \"w\") as file:\n",
    "    json.dump(data, file)\n",
    "\n",
    "# Read the generated JSON file into a Pandas DataFrame\n",
    "df = pd.read_json(file_path)\n",
    "\n",
    "# Extract columns and convert to list\n",
    "x_list = df[\"X\"].tolist()\n",
    "y_list = df[\"Y\"].tolist()"
   ]
  },
  {
   "cell_type": "code",
   "execution_count": 24,
   "metadata": {
    "ExecuteTime": {
     "end_time": "2023-12-19T18:27:49.804951300Z",
     "start_time": "2023-12-19T18:27:47.701657Z"
    }
   },
   "outputs": [],
   "source": [
    "# Generate a JSON message\n",
    "msg = generate_message(x=x_list, y=y_list, title=\"test2\")\n",
    "\n",
    "# Send the message to the data server\n",
    "response = send_to_data_server(msg, \"1004\")"
   ]
  },
  {
   "cell_type": "code",
   "execution_count": 27,
   "metadata": {},
   "outputs": [
    {
     "ename": "KeyboardInterrupt",
     "evalue": "",
     "output_type": "error",
     "traceback": [
      "\u001b[0;31m---------------------------------------------------------------------------\u001b[0m",
      "\u001b[0;31mKeyboardInterrupt\u001b[0m                         Traceback (most recent call last)",
      "Cell \u001b[0;32mIn[27], line 9\u001b[0m\n\u001b[1;32m      7\u001b[0m x \u001b[38;5;241m+\u001b[39m\u001b[38;5;241m=\u001b[39m \u001b[38;5;241m1\u001b[39m\n\u001b[1;32m      8\u001b[0m y \u001b[38;5;241m+\u001b[39m\u001b[38;5;241m=\u001b[39m \u001b[38;5;241m1\u001b[39m\n\u001b[0;32m----> 9\u001b[0m \u001b[43mtime\u001b[49m\u001b[38;5;241;43m.\u001b[39;49m\u001b[43msleep\u001b[49m\u001b[43m(\u001b[49m\u001b[38;5;241;43m0.2\u001b[39;49m\u001b[43m)\u001b[49m\n",
      "\u001b[0;31mKeyboardInterrupt\u001b[0m: "
     ]
    }
   ],
   "source": [
    "x, y = 0, 0\n",
    "\n",
    "for i in range(200):\n",
    "    msg = generate_message(x=x, y=y, title=\"lol\")\n",
    "    response = send_to_data_server(msg, \"2001\")\n",
    "\n",
    "    x += 1\n",
    "    y += 1\n",
    "    time.sleep(0.2)"
   ]
  },
  {
   "cell_type": "code",
   "execution_count": 19,
   "metadata": {},
   "outputs": [],
   "source": [
    "N = int(1e6)\n",
    "x = np.linspace(0, 100, N).tolist()\n",
    "y = np.sin(x).tolist()\n",
    "\n",
    "msg = generate_message(x=x, y=y, title=\"sine\")\n",
    "response = send_to_data_server(msg, \"3003\")"
   ]
  }
 ],
 "metadata": {
  "kernelspec": {
   "display_name": ".venv",
   "language": "python",
   "name": "python3"
  },
  "language_info": {
   "codemirror_mode": {
    "name": "ipython",
    "version": 3
   },
   "file_extension": ".py",
   "mimetype": "text/x-python",
   "name": "python",
   "nbconvert_exporter": "python",
   "pygments_lexer": "ipython3",
   "version": "3.10.12"
  }
 },
 "nbformat": 4,
 "nbformat_minor": 2
}
