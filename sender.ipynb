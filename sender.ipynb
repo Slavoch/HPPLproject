{
 "cells": [
  {
   "cell_type": "code",
   "execution_count": 104,
   "metadata": {
    "ExecuteTime": {
     "end_time": "2023-12-19T12:07:05.502427Z",
     "start_time": "2023-12-19T12:07:05.487215400Z"
    }
   },
   "outputs": [],
   "source": [
    "from sender import generate_message, send_to_data_server\n",
    "import pandas \n",
    "import json\n",
    "import requests\n",
    "#import sqlalchemy\n",
    "def generate_message(x, y, title=None, x_label=None, y_label=None, legend=None):\n",
    "    # Collect all arguments into a dictionary, excluding None values\n",
    "    args = locals()\n",
    "    message = {arg: value for arg, value in args.items() if value is not None}\n",
    "\n",
    "    # Convert the dictionary to a JSON string\n",
    "    json_message = json.dumps(message)\n",
    "    return json_message\n",
    "\n",
    "def send_to_data_server(data, path):\n",
    "    # Construct the URL and send a POST request\n",
    "    url = f\"http://localhost:9023/{path}\"\n",
    "    response = requests.post(url, data=data)\n",
    "    return response\n",
    "\n",
    "# Example DataFrame creation\n",
    "# Here you can import your pandas table directly from internet database or your PC files\n",
    "#df = pd.read_json('file_path_or_url')\n",
    "#engine = sqlalchemy.create_engine('database_url')\n",
    "#df = pd.read_sql_query('sql_query', engine)\n",
    "x = [1, 2, 3, 4, 5]\n",
    "y = [10, 20, 30, 40, 50]\n",
    "df = pd.DataFrame({'X': x, 'Y': y})\n",
    "\n",
    "# Extract columns and convert to list\n",
    "x_list = df['X'].tolist()\n",
    "y_list = df['Y'].tolist()\n"
   ]
  },
  {
   "cell_type": "code",
   "execution_count": 105,
   "metadata": {
    "ExecuteTime": {
     "end_time": "2023-12-19T12:07:07.552562600Z",
     "start_time": "2023-12-19T12:07:05.492348800Z"
    }
   },
   "outputs": [],
   "source": [
    "# Generate a JSON message\n",
    "msg = generate_message(x=x_list, y=y_list, title=\"lol\")\n",
    "\n",
    "# Send the message to the data server\n",
    "response = send_to_data_server(msg, \"1000\")"
   ]
  },
  {
   "cell_type": "code",
   "execution_count": 106,
   "metadata": {
    "ExecuteTime": {
     "end_time": "2023-12-19T12:07:09.601313400Z",
     "start_time": "2023-12-19T12:07:07.554144100Z"
    }
   },
   "outputs": [],
   "source": [
    "msg = generate_message(x=[x], y=[y], title=\"lol\")\n",
    "send_to_data_server(msg, \"1000\")\n",
    "x = 1\n",
    "y = 1"
   ]
  },
  {
   "cell_type": "code",
   "execution_count": 106,
   "metadata": {
    "ExecuteTime": {
     "end_time": "2023-12-19T12:07:09.607087600Z",
     "start_time": "2023-12-19T12:07:09.605093100Z"
    }
   },
   "outputs": [],
   "source": []
  }
 ],
 "metadata": {
  "kernelspec": {
   "display_name": ".venv",
   "language": "python",
   "name": "python3"
  },
  "language_info": {
   "codemirror_mode": {
    "name": "ipython",
    "version": 3
   },
   "file_extension": ".py",
   "mimetype": "text/x-python",
   "name": "python",
   "nbconvert_exporter": "python",
   "pygments_lexer": "ipython3",
   "version": "3.10.12"
  }
 },
 "nbformat": 4,
 "nbformat_minor": 2
}
